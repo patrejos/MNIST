{
  "cells": [
    {
      "cell_type": "markdown",
      "metadata": {
        "id": "view-in-github",
        "colab_type": "text"
      },
      "source": [
        "<a href=\"https://colab.research.google.com/github/patrejos/MNIST/blob/main/ModeloPredictivoYGenerativoMNIST.ipynb\" target=\"_parent\"><img src=\"https://colab.research.google.com/assets/colab-badge.svg\" alt=\"Open In Colab\"/></a>"
      ]
    },
    {
      "cell_type": "markdown",
      "source": [
        "## Modelo Predictivo MNIST"
      ],
      "metadata": {
        "id": "ozvkUG5hVBni"
      }
    },
    {
      "cell_type": "markdown",
      "source": [
        "El objetivo de este proyecto es resolver uno de los problemas clásicos e iniciales para el machine learnig especificamente el área de visión computacional con la clasificación de digitos de la base de datos MNIST."
      ],
      "metadata": {
        "id": "Dmw4Hc-dVJ-B"
      }
    },
    {
      "cell_type": "markdown",
      "source": [
        "### Que modelo se va a usar"
      ],
      "metadata": {
        "id": "eWi-kOjrWyGQ"
      }
    },
    {
      "cell_type": "markdown",
      "source": [],
      "metadata": {
        "id": "C-u_Wb8lW3_8"
      }
    },
    {
      "cell_type": "code",
      "source": [],
      "metadata": {
        "id": "3EiXYBfmWxlW"
      },
      "execution_count": null,
      "outputs": []
    },
    {
      "cell_type": "code",
      "execution_count": null,
      "metadata": {
        "id": "nmuW4dKzj9NQ"
      },
      "outputs": [],
      "source": [
        "import pandas as pd\n",
        "import numpy as np"
      ]
    },
    {
      "cell_type": "code",
      "execution_count": null,
      "metadata": {
        "id": "hxBzhUhY79P3"
      },
      "outputs": [],
      "source": [
        "df = pd.read_csv(\"/content/drive/MyDrive/data.csv/train.csv\")"
      ]
    },
    {
      "cell_type": "code",
      "execution_count": null,
      "metadata": {
        "colab": {
          "base_uri": "https://localhost:8080/",
          "height": 447
        },
        "id": "q2GagEIBu2AE",
        "outputId": "595fff34-cb7a-4269-b5aa-a5ddc3d5c21a"
      },
      "outputs": [
        {
          "output_type": "execute_result",
          "data": {
            "text/plain": [
              "<Axes: >"
            ]
          },
          "metadata": {},
          "execution_count": 24
        },
        {
          "output_type": "display_data",
          "data": {
            "text/plain": [
              "<Figure size 640x480 with 1 Axes>"
            ],
            "image/png": "[encoded data removed]"
          },
          "metadata": {}
        }
      ],
      "source": [
        "df['label'].hist()"
      ]
    },
    {
      "cell_type": "code",
      "execution_count": null,
      "metadata": {
        "id": "G2kN2ATMNExz"
      },
      "outputs": [],
      "source": [
        "def calculate_prior(df, Y):\n",
        "    classes = sorted(list(df[Y].unique()))\n",
        "    prior = []\n",
        "    for i in classes:\n",
        "        prior.append(len(df[df[Y]==i])/len(df))\n",
        "    return prior"
      ]
    },
    {
      "cell_type": "code",
      "execution_count": null,
      "metadata": {
        "id": "9qu-CZu1htsl"
      },
      "outputs": [],
      "source": [
        "def calculate_likelihood_gaussian(df, feat_name, feat_val, Y, label):\n",
        "    feat = list(df.columns)\n",
        "    df = df[df[Y]==label]\n",
        "    mean, std = df[feat_name].mean(), df[feat_name].std()\n",
        "    p_x_given_y = (1 / (np.sqrt(2 * np.pi) * std)) *  np.exp(-((feat_val-mean)**2 / (2 * std**2 )))\n",
        "    return p_x_given_y"
      ]
    },
    {
      "cell_type": "code",
      "execution_count": null,
      "metadata": {
        "id": "vJcZMvRph3Kl"
      },
      "outputs": [],
      "source": [
        "def naive_bayes_gaussian(df, X, Y):\n",
        "    # get feature names\n",
        "    features = list(df.columns)[1:]\n",
        "\n",
        "    # calculate prior\n",
        "    prior = calculate_prior(df, Y)\n",
        "\n",
        "    Y_pred = []\n",
        "    # loop over every data sample\n",
        "    for x in X:\n",
        "        # calculate likelihood\n",
        "        labels = sorted(list(df[Y].unique()))\n",
        "        likelihood = [1]*len(labels)\n",
        "        for j in range(len(labels)):\n",
        "            for i in range(len(features)):\n",
        "                likelihood[j] *= calculate_likelihood_gaussian(df, features[i], x[i]/255\n",
        "                                                               , Y, labels[j])\n",
        "\n",
        "        # calculate posterior probability (numerator only)\n",
        "        post_prob = [1]*len(labels)\n",
        "        for j in range(len(labels)):\n",
        "            post_prob[j] = likelihood[j] * prior[j]\n",
        "\n",
        "        Y_pred.append(np.argmax(post_prob))\n",
        "\n",
        "    return np.array(Y_pred)"
      ]
    },
    {
      "cell_type": "code",
      "execution_count": null,
      "metadata": {
        "colab": {
          "base_uri": "https://localhost:8080/"
        },
        "id": "QwTWE4f8h8RF",
        "outputId": "88192383-02d7-48f5-efae-c9b65c7b5fb8"
      },
      "outputs": [
        {
          "output_type": "stream",
          "name": "stderr",
          "text": [
            "<ipython-input-6-9d498f318345>:5: RuntimeWarning: divide by zero encountered in double_scalars\n",
            "  p_x_given_y = (1 / (np.sqrt(2 * np.pi) * std)) *  np.exp(-((feat_val-mean)**2 / (2 * std**2 )))\n",
            "<ipython-input-6-9d498f318345>:5: RuntimeWarning: invalid value encountered in double_scalars\n",
            "  p_x_given_y = (1 / (np.sqrt(2 * np.pi) * std)) *  np.exp(-((feat_val-mean)**2 / (2 * std**2 )))\n"
          ]
        },
        {
          "output_type": "stream",
          "name": "stdout",
          "text": [
            "[[16  0  0  0  0  0  0  0  0  0]\n",
            " [21  0  0  0  0  0  0  0  0  0]\n",
            " [26  0  0  0  0  0  0  0  0  0]\n",
            " [17  0  0  0  0  0  0  0  0  0]\n",
            " [19  0  0  0  0  0  0  0  0  0]\n",
            " [23  0  0  0  0  0  0  0  0  0]\n",
            " [24  0  0  0  0  0  0  0  0  0]\n",
            " [19  0  0  0  0  0  0  0  0  0]\n",
            " [15  0  0  0  0  0  0  0  0  0]\n",
            " [20  0  0  0  0  0  0  0  0  0]]\n",
            "0.08\n"
          ]
        }
      ],
      "source": [
        "from sklearn.model_selection import train_test_split\n",
        "train, test = train_test_split(df.head(1000), test_size=.2, random_state=41)\n",
        "\n",
        "X_test = test.iloc[:,1:].values\n",
        "Y_test = test.iloc[:,0].values\n",
        "Y_pred = naive_bayes_gaussian(train, X=X_test, Y=\"label\")\n",
        "\n",
        "from sklearn.metrics import confusion_matrix, f1_score\n",
        "print(confusion_matrix(Y_test, Y_pred))\n",
        "print(f1_score(Y_test, Y_pred,average=\"micro\"))"
      ]
    },
    {
      "cell_type": "code",
      "source": [
        "import numpy as np\n",
        "from sklearn.datasets import fetch_openml\n",
        "from sklearn.model_selection import train_test_split\n",
        "from sklearn.naive_bayes import GaussianNB\n",
        "from sklearn import metrics\n",
        "\n",
        "# Cargar la base de datos MNIST\n",
        "mnist = fetch_openml(\"mnist_784\")\n",
        "X = mnist.data.astype(\"float32\")\n",
        "y = mnist.target.astype(\"int\")\n",
        "\n",
        "# Dividir el conjunto de datos en entrenamiento y prueba\n",
        "X_train, X_test, y_train, y_test = train_test_split(X, y, test_size=0.2, random_state=42)\n",
        "\n",
        "# Crear un clasificador Naive Bayes Gaussiano\n",
        "nb_classifier = GaussianNB()\n",
        "\n",
        "# Entrenar el clasificador con los datos de entrenamiento\n",
        "nb_classifier.fit(X_train, y_train)\n",
        "\n",
        "# Realizar predicciones en el conjunto de prueba\n",
        "y_pred = nb_classifier.predict(X_test)\n",
        "\n",
        "# Calcular la precisión del modelo\n",
        "accuracy = metrics.accuracy_score(y_test, y_pred)\n",
        "print(f\"Precisión del clasificador Naive Bayes: {accuracy * 100:.2f}%\")"
      ],
      "metadata": {
        "colab": {
          "base_uri": "https://localhost:8080/"
        },
        "id": "cs3iq-QAaSPv",
        "outputId": "f0450cae-951d-4859-a706-8abc40bd44dc"
      },
      "execution_count": null,
      "outputs": [
        {
          "output_type": "stream",
          "name": "stderr",
          "text": [
            "/usr/local/lib/python3.10/dist-packages/sklearn/datasets/_openml.py:968: FutureWarning: The default value of `parser` will change from `'liac-arff'` to `'auto'` in 1.4. You can set `parser='auto'` to silence this warning. Therefore, an `ImportError` will be raised from 1.4 if the dataset is dense and pandas is not installed. Note that the pandas parser may return different data types. See the Notes Section in fetch_openml's API doc for details.\n",
            "  warn(\n"
          ]
        },
        {
          "output_type": "stream",
          "name": "stdout",
          "text": [
            "Precisión del clasificador Naive Bayes: 55.16%\n"
          ]
        }
      ]
    },
    {
      "cell_type": "code",
      "source": [
        "test.iloc[:,0].values"
      ],
      "metadata": {
        "id": "bb1DYzx5bex0",
        "colab": {
          "base_uri": "https://localhost:8080/"
        },
        "outputId": "52eb5528-eb93-4be5-b2a5-833a7f95a6d3"
      },
      "execution_count": null,
      "outputs": [
        {
          "output_type": "execute_result",
          "data": {
            "text/plain": [
              "array([3, 1, 6, 1, 3, 6, 8, 4, 8, 2, 5, 4, 6, 1, 2, 1, 2, 7, 9, 4, 3, 3,\n",
              "       7, 4, 5, 6, 8, 0, 2, 1, 9, 2, 3, 6, 2, 6, 8, 6, 0, 2, 7, 8, 2, 9,\n",
              "       3, 3, 3, 4, 4, 2, 5, 4, 2, 5, 5, 0, 1, 4, 4, 2, 6, 2, 0, 4, 2, 7,\n",
              "       0, 5, 4, 4, 7, 5, 8, 5, 6, 7, 0, 5, 5, 1, 6, 2, 2, 2, 2, 6, 3, 0,\n",
              "       1, 2, 9, 9, 6, 9, 0, 6, 4, 8, 4, 7, 1, 9, 7, 5, 8, 7, 6, 3, 0, 6,\n",
              "       2, 5, 9, 8, 7, 5, 3, 0, 4, 5, 3, 9, 9, 1, 9, 9, 5, 7, 5, 7, 5, 8,\n",
              "       1, 7, 4, 8, 2, 9, 9, 5, 4, 9, 5, 7, 1, 1, 9, 2, 1, 6, 5, 3, 4, 6,\n",
              "       9, 0, 8, 1, 6, 8, 6, 1, 7, 6, 1, 2, 9, 2, 6, 2, 0, 7, 3, 8, 2, 4,\n",
              "       9, 1, 1, 7, 9, 6, 0, 5, 8, 1, 5, 5, 6, 2, 1, 7, 6, 3, 0, 0, 7, 3,\n",
              "       0, 3])"
            ]
          },
          "metadata": {},
          "execution_count": 14
        }
      ]
    },
    {
      "cell_type": "code",
      "source": [
        "calculate_prior(df,Y='label')"
      ],
      "metadata": {
        "colab": {
          "base_uri": "https://localhost:8080/"
        },
        "id": "icv3oTygYKkI",
        "outputId": "4b2a9149-009b-4401-be90-dddab0e92fb4"
      },
      "execution_count": null,
      "outputs": [
        {
          "output_type": "execute_result",
          "data": {
            "text/plain": [
              "[0.09838095238095237,\n",
              " 0.11152380952380953,\n",
              " 0.09945238095238096,\n",
              " 0.1035952380952381,\n",
              " 0.09695238095238096,\n",
              " 0.09035714285714286,\n",
              " 0.0985,\n",
              " 0.10478571428571429,\n",
              " 0.09673809523809523,\n",
              " 0.09971428571428571]"
            ]
          },
          "metadata": {},
          "execution_count": 16
        }
      ]
    }
  ],
  "metadata": {
    "colab": {
      "provenance": [],
      "toc_visible": true,
      "mount_file_id": "1WLJ4XJCijBsDuPZsij-Teh4gV1HxR_6M",
      "authorship_tag": "ABX9TyN5bTo9BNX3mOcGf/K2Mrmx",
      "include_colab_link": true
    },
    "kernelspec": {
      "display_name": "Python 3",
      "name": "python3"
    },
    "language_info": {
      "name": "python"
    }
  },
  "nbformat": 4,
  "nbformat_minor": 0
}