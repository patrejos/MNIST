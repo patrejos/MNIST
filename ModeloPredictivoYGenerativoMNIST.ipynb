{
  "cells": [
    {
      "cell_type": "markdown",
      "metadata": {
        "id": "view-in-github",
        "colab_type": "text"
      },
      "source": [
        "<a href=\"https://colab.research.google.com/github/patrejos/MNIST/blob/main/ModeloPredictivoYGenerativoMNIST.ipynb\" target=\"_parent\"><img src=\"https://colab.research.google.com/assets/colab-badge.svg\" alt=\"Open In Colab\"/></a>"
      ]
    },
    {
      "cell_type": "markdown",
      "source": [
        "## Modelo Predictivo MNIST"
      ],
      "metadata": {
        "id": "ozvkUG5hVBni"
      }
    },
    {
      "cell_type": "markdown",
      "source": [
        "El objetivo de este proyecto es resolver uno de los problemas clásicos e iniciales para el machine learnig especificamente el área de visión computacional con la clasificación de digitos de la base de datos MNIST."
      ],
      "metadata": {
        "id": "Dmw4Hc-dVJ-B"
      }
    },
    {
      "cell_type": "markdown",
      "source": [
        "### Que modelo se va a usar"
      ],
      "metadata": {
        "id": "eWi-kOjrWyGQ"
      }
    },
    {
      "cell_type": "markdown",
      "source": [
        "Se utilizara el modelo Naive Bayes, que es un algoritmo de clasificación que se basa en el teorema de Bayes, incluye el termino naive (ingenuo), pues esta centrado en que todas las características son independientes entre sí, que puede ser una suposicion fuerte."
      ],
      "metadata": {
        "id": "C-u_Wb8lW3_8"
      }
    },
    {
      "cell_type": "markdown",
      "source": [
        "### Teorema de Bayes en el Contexto de Naive Bayes\n",
        "\n",
        "El Teorema de Bayes establece la relación entre la probabilidad condicional de dos eventos, y se expresa de la siguiente manera:\n",
        "\n",
        "$$ P(A|B) = \\frac{P(B|A) \\cdot P(A)}{P(B)} $$\n",
        "\n",
        "Donde:\n",
        "- \\( P(A|B) \\) es la probabilidad condicional de A dado B.\n",
        "- \\( P(B|A) \\) es la probabilidad condicional de B dado A.\n",
        "- \\( P(A) \\) y \\( P(B) \\) son las probabilidades marginales de A y B, respectivamente.\n",
        "\n",
        "En el contexto del algoritmo de Naive Bayes, asumimos la independencia entre las características dadas las clases. Supongamos que tenemos un conjunto de características $$X = \\{x_1, x_2, \\ldots, x_n\\}$$ y una clase \\(C\\). Podemos usar el teorema de Bayes para calcular la probabilidad de que una instancia pertenezca a la clase \\(C\\) dado el conjunto de características \\(X\\):\n",
        "\n",
        "$$ P(C|X) = \\frac{P(X|C) \\cdot P(C)}{P(X)} $$\n",
        "\n",
        "En este contexto:\n",
        "- \\( P(C|X) \\) es la probabilidad de que la instancia pertenezca a la clase \\(C\\) dado el conjunto de características \\(X\\).\n",
        "- \\( P(X|C) \\) es la probabilidad de observar el conjunto de características \\(X\\) dada la clase \\(C\\).\n",
        "- \\( P(C) \\) es la probabilidad prior de la clase \\(C\\).\n",
        "- \\( P(X) \\) es la probabilidad marginal de observar el conjunto de características \\(X\\).\n",
        "\n",
        "El enfoque \"naive\" asume independencia entre las características, lo que simplifica la expresión de \\( P(X|C) \\) a:\n",
        "\n",
        "$$P(X|C) = P(x_1|C) \\cdot P(x_2|C) \\cdot \\ldots \\cdot P(x_n|C) $$\n",
        "\n",
        "Esto permite calcular fácilmente \\( P(C|X) \\), y la clase con la probabilidad condicional más alta se predice como la clase final para la instancia dada. Este enfoque es efectivo y eficiente, especialmente en tareas de clasificación de texto y minería de datos.\n"
      ],
      "metadata": {
        "id": "3ztoZ3wtknS0"
      }
    },
    {
      "cell_type": "markdown",
      "source": [
        "### Cargamos los datos y librerias necesarias"
      ],
      "metadata": {
        "id": "lTJUgK2UXj5e"
      }
    },
    {
      "cell_type": "markdown",
      "source": [
        "Tomamos x_train como los datos para entrenar el modelo y y_train como las etiquetas que traen, y en x_test se guardan las imagenes para probar el rendimiento del modelo, para cargar de manera efectiva el modelo, normalizamos los valores dividiendo por 255, además se deben converitr en vectores de una dimension."
      ],
      "metadata": {
        "id": "v2LR4ALqYPwv"
      }
    },
    {
      "cell_type": "code",
      "source": [
        "from sklearn.model_selection import train_test_split\n",
        "from sklearn.naive_bayes import GaussianNB\n",
        "from sklearn import metrics\n",
        "from sklearn.naive_bayes import BernoulliNB\n",
        "from sklearn.datasets import fetch_openml\n",
        "import numpy as np\n",
        "import matplotlib.pyplot as plt\n",
        "\n",
        "\n",
        "mnist = fetch_openml('mnist_784', version=1, cache=True)\n",
        "\n",
        "\n",
        "X_train, X_test, y_train, y_test = train_test_split(mnist.data, mnist.target, test_size=0.2, random_state=42)\n"
      ],
      "metadata": {
        "colab": {
          "base_uri": "https://localhost:8080/"
        },
        "id": "7OZZABuDX0du",
        "outputId": "8637c6d5-7ebf-4852-fdd2-b4386260dbb2"
      },
      "execution_count": 24,
      "outputs": [
        {
          "output_type": "stream",
          "name": "stderr",
          "text": [
            "/usr/local/lib/python3.10/dist-packages/sklearn/datasets/_openml.py:968: FutureWarning: The default value of `parser` will change from `'liac-arff'` to `'auto'` in 1.4. You can set `parser='auto'` to silence this warning. Therefore, an `ImportError` will be raised from 1.4 if the dataset is dense and pandas is not installed. Note that the pandas parser may return different data types. See the Notes Section in fetch_openml's API doc for details.\n",
            "  warn(\n"
          ]
        }
      ]
    },
    {
      "cell_type": "markdown",
      "source": [
        "Se usara de la libreria sklearn la función GuaussianNB que se refiere a un modelo de clasificacion gaussiano pues al tomar pixeles de imagenes se pueden tomar como continuas y que siguen una distribucion normal\n",
        "\n",
        "\n"
      ],
      "metadata": {
        "id": "ZVtZxCpbZRRY"
      }
    },
    {
      "cell_type": "code",
      "source": [
        "gaussian_naive_bayes_model = GaussianNB()\n",
        "\n",
        "\n",
        "gaussian_naive_bayes_model.fit(X_train, y_train)\n",
        "\n",
        "\n",
        "y_pred = gaussian_naive_bayes_model.predict(X_test)\n",
        "\n",
        "\n",
        "accuracy = metrics.accuracy_score(y_test, y_pred)\n",
        "print(f\"Accuracy: {accuracy}\")"
      ],
      "metadata": {
        "colab": {
          "base_uri": "https://localhost:8080/"
        },
        "id": "cs3iq-QAaSPv",
        "outputId": "d596e85f-f868-4611-bc15-0c4629403431"
      },
      "execution_count": 25,
      "outputs": [
        {
          "output_type": "stream",
          "name": "stdout",
          "text": [
            "Accuracy: 0.5515714285714286\n"
          ]
        }
      ]
    },
    {
      "cell_type": "markdown",
      "source": [
        "Sin embargo al considerar que son imagenes sencillas que estan a dos colores, se puede pensar en binarizar las imagenes sin que se pierda mucha información y con esto poder utilizar un metodo naive bayes para la distribucion bernoulli, pues estan binarizadas.\n"
      ],
      "metadata": {
        "id": "Bja1g78og_E6"
      }
    },
    {
      "cell_type": "markdown",
      "source": [
        "### Ejemplo de la binarizacion"
      ],
      "metadata": {
        "id": "g5wDXFvNhSDz"
      }
    },
    {
      "cell_type": "code",
      "source": [
        "imagen_original = mnist.data.iloc[0].to_numpy().reshape(28, 28)\n",
        "umbral = 128\n",
        "\n",
        "imagen_binarizada = np.where(imagen_original > umbral, 1, 0)\n",
        "\n",
        "# Visualizar la imagen original y la binarizada\n",
        "plt.subplot(1, 2, 1)\n",
        "plt.imshow(imagen_original, cmap='gray')\n",
        "plt.title('Imagen Original')\n",
        "\n",
        "plt.subplot(1, 2, 2)\n",
        "plt.imshow(imagen_binarizada, cmap='binary')\n",
        "plt.title('Imagen Binarizada')\n",
        "\n",
        "plt.show()\n"
      ],
      "metadata": {
        "colab": {
          "base_uri": "https://localhost:8080/",
          "height": 308
        },
        "id": "OwLI3nF5c7Kd",
        "outputId": "cac9e16a-1104-429f-9507-6da61b770adc"
      },
      "execution_count": 26,
      "outputs": [
        {
          "output_type": "display_data",
          "data": {
            "text/plain": [
              "<Figure size 640x480 with 2 Axes>"
            ],
            "image/png": "[encoded data removed]"
          },
          "metadata": {}
        }
      ]
    },
    {
      "cell_type": "markdown",
      "source": [
        "Generalizamos la binarizacion del ejemplo anterior y se lo aplicamos a todas las imagenes de nuestro conjunto de datos, se escoge como umbral 128, pues los pixeles manejan valores de 0-255, por lo que al tomar 128 como"
      ],
      "metadata": {
        "id": "Vbog964ghcN_"
      }
    },
    {
      "cell_type": "code",
      "source": [
        "imagenes_binarizadas = mnist.data.applymap(lambda x: 1 if x > umbral else 0)\n",
        "\n",
        "# Dividir los datos en conjuntos de entrenamiento y prueba\n",
        "X_train, X_test, y_train, y_test = train_test_split(imagenes_binarizadas, mnist.target, test_size=0.2, random_state=42)\n",
        "\n",
        "# Inicializar el clasificador Naive Bayes Bernoulli\n",
        "bernoulli_model = BernoulliNB()\n",
        "\n",
        "# Entrenar el modelo con los datos de entrenamiento\n",
        "bernoulli_model.fit(X_train, y_train)\n",
        "\n",
        "# Realizar predicciones en los datos de prueba\n",
        "y_pred = bernoulli_model.predict(X_test)\n",
        "\n",
        "# Evaluar el rendimiento del modelo\n",
        "accuracy = metrics.accuracy_score(y_test, y_pred)\n",
        "print(f\"Accuracy: {accuracy}\")\n"
      ],
      "metadata": {
        "colab": {
          "base_uri": "https://localhost:8080/"
        },
        "id": "31TYkQSkeoL7",
        "outputId": "e65617fc-84fa-4196-af4c-6845c5a0fe79"
      },
      "execution_count": 27,
      "outputs": [
        {
          "output_type": "stream",
          "name": "stdout",
          "text": [
            "Accuracy: 0.8385714285714285\n"
          ]
        }
      ]
    },
    {
      "cell_type": "markdown",
      "source": [
        "Podemos notar una mejoria en el accuracy del modelo utilizando la version de Bernoulli"
      ],
      "metadata": {
        "id": "iIVOYo7OjAUg"
      }
    },
    {
      "cell_type": "markdown",
      "source": [
        "# Generador de imagenes"
      ],
      "metadata": {
        "id": "0Uc4RDtomRqS"
      }
    },
    {
      "cell_type": "markdown",
      "source": [
        " El uso de un Variational Autoencoder (VAE) para generar imágenes MNIST se justifica por su capacidad para representar de manera continua, regularizar, generar nuevos datos, permitir interpolaciones suaves y ofrecer información probabilística valiosa. Estas características hacen que el VAE sea una elección poderosa y efectiva para abordar los desafíos particulares presentes en el conjunto de datos MNIST.\n",
        "\n",
        "\n",
        "\n",
        "\n"
      ],
      "metadata": {
        "id": "1757JyJqstBm"
      }
    },
    {
      "cell_type": "code",
      "source": [
        "import numpy as np\n",
        "import matplotlib.pyplot as plt\n",
        "from tensorflow.keras.layers import Input, Dense, Lambda\n",
        "from tensorflow.keras.models import Model\n",
        "from tensorflow.keras import backend as K\n",
        "from tensorflow.keras import metrics\n",
        "from tensorflow.keras.datasets import mnist\n",
        "\n",
        "# Cargar datos MNIST\n",
        "(x_train, _), (x_test, y_test) = mnist.load_data()\n",
        "\n",
        "# Normalizar y aplanar las imágenes\n",
        "x_train = x_train.astype('float32') / 255.\n",
        "x_test = x_test.astype('float32') / 255.\n",
        "x_train = x_train.reshape((len(x_train), np.prod(x_train.shape[1:])))\n",
        "x_test = x_test.reshape((len(x_test), np.prod(x_test.shape[1:])))\n",
        "\n",
        "# Definir la arquitectura del Variational Autoencoder (VAE)\n",
        "original_dim = 784\n",
        "intermediate_dim = 256\n",
        "latent_dim = 2\n",
        "\n",
        "# Encoder\n",
        "x = Input(shape=(original_dim,))\n",
        "h = Dense(intermediate_dim, activation='relu')(x)\n",
        "z_mean = Dense(latent_dim)(h)\n",
        "z_log_var = Dense(latent_dim)(h)\n",
        "\n",
        "# Función de muestreo\n",
        "def sampling(args):\n",
        "    z_mean, z_log_var = args\n",
        "    batch = K.shape(z_mean)[0]\n",
        "    dim = K.int_shape(z_mean)[1]\n",
        "    epsilon = K.random_normal(shape=(batch, dim))\n",
        "    return z_mean + K.exp(0.5 * z_log_var) * epsilon\n",
        "\n",
        "z = Lambda(sampling, output_shape=(latent_dim,))([z_mean, z_log_var])\n",
        "\n",
        "# Decoder\n",
        "decoder_h = Dense(intermediate_dim, activation='relu')\n",
        "decoder_mean = Dense(original_dim, activation='sigmoid')\n",
        "h_decoded = decoder_h(z)\n",
        "x_decoded_mean = decoder_mean(h_decoded)\n",
        "\n",
        "# Construir el modelo completo\n",
        "vae = Model(x, x_decoded_mean)\n",
        "\n",
        "# Construir un modelo que toma una entrada y da las medias y los log variances\n",
        "encoder = Model(x, [z_mean, z_log_var])\n",
        "\n",
        "# Construir el modelo del generador\n",
        "decoder_input = Input(shape=(latent_dim,))\n",
        "_h_decoded = decoder_h(decoder_input)\n",
        "_x_decoded_mean = decoder_mean(_h_decoded)\n",
        "generator = Model(decoder_input, _x_decoded_mean)\n",
        "\n",
        "# Pérdida VAE\n",
        "xent_loss = original_dim * metrics.binary_crossentropy(x, x_decoded_mean)\n",
        "kl_loss = - 0.5 * K.sum(1 + z_log_var - K.square(z_mean) - K.exp(z_log_var), axis=-1)\n",
        "vae_loss = K.mean(xent_loss + kl_loss)\n",
        "\n",
        "vae.add_loss(vae_loss)\n",
        "vae.compile(optimizer='rmsprop')\n",
        "vae.summary()\n",
        "# Entrenar el VAE\n",
        "vae.fit(x_train, shuffle=True, epochs=50, batch_size=32, validation_data=(x_test, None))\n",
        "\n",
        "# Generar y visualizar una imagen simulada\n",
        "def generar_imagen_para_numero(numero_deseado):\n",
        "    noise = np.random.normal(0, 1, (1, latent_dim))\n",
        "    gen_img = generator.predict(noise)\n",
        "    gen_img = gen_img.reshape(28, 28)\n",
        "    plt.imshow(gen_img, cmap='gray')\n",
        "    plt.title(f'Imagen Simulada para el Número {numero_deseado}')\n",
        "    plt.show()\n",
        "\n",
        "# Generar y visualizar una imagen simulada para el número 5 (puedes cambiar el número deseado)\n",
        "generar_imagen_para_numero(5)\n"
      ],
      "metadata": {
        "id": "ozfzoCwOrVsb"
      },
      "execution_count": null,
      "outputs": []
    },
    {
      "cell_type": "code",
      "source": [
        "generar_imagen_para_numero(9)"
      ],
      "metadata": {
        "colab": {
          "base_uri": "https://localhost:8080/",
          "height": 470
        },
        "id": "ou4XhJoNwiYc",
        "outputId": "e38db84e-3e35-4176-d0a4-d59ec2d6156c"
      },
      "execution_count": 49,
      "outputs": [
        {
          "output_type": "stream",
          "name": "stdout",
          "text": [
            "1/1 [==============================] - 0s 83ms/step\n"
          ]
        },
        {
          "output_type": "display_data",
          "data": {
            "text/plain": [
              "<Figure size 640x480 with 1 Axes>"
            ],
            "image/png": "[encoded data removed]"
          },
          "metadata": {}
        }
      ]
    },
    {
      "cell_type": "markdown",
      "source": [
        "Se puede notar que el modelo no funciona bien, pues se pueden interpretar otros numeros de las imagenes"
      ],
      "metadata": {
        "id": "EZ3LCp0EwqRV"
      }
    }
  ],
  "metadata": {
    "colab": {
      "provenance": [],
      "toc_visible": true,
      "mount_file_id": "1WLJ4XJCijBsDuPZsij-Teh4gV1HxR_6M",
      "authorship_tag": "ABX9TyNwaGWp8Zbq6IzpvW17xoD+",
      "include_colab_link": true
    },
    "kernelspec": {
      "display_name": "Python 3",
      "name": "python3"
    },
    "language_info": {
      "name": "python"
    }
  },
  "nbformat": 4,
  "nbformat_minor": 0
}